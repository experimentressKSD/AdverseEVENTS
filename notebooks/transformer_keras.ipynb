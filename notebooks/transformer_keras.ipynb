{
 "cells": [
  {
   "cell_type": "code",
   "execution_count": 1,
   "metadata": {},
   "outputs": [
    {
     "name": "stderr",
     "output_type": "stream",
     "text": [
      "2024-04-12 15:33:56.795987: E external/local_xla/xla/stream_executor/cuda/cuda_dnn.cc:9261] Unable to register cuDNN factory: Attempting to register factory for plugin cuDNN when one has already been registered\n",
      "2024-04-12 15:33:56.796038: E external/local_xla/xla/stream_executor/cuda/cuda_fft.cc:607] Unable to register cuFFT factory: Attempting to register factory for plugin cuFFT when one has already been registered\n",
      "2024-04-12 15:33:56.850119: E external/local_xla/xla/stream_executor/cuda/cuda_blas.cc:1515] Unable to register cuBLAS factory: Attempting to register factory for plugin cuBLAS when one has already been registered\n",
      "2024-04-12 15:33:56.970752: I tensorflow/core/platform/cpu_feature_guard.cc:182] This TensorFlow binary is optimized to use available CPU instructions in performance-critical operations.\n",
      "To enable the following instructions: AVX2 FMA, in other operations, rebuild TensorFlow with the appropriate compiler flags.\n",
      "2024-04-12 15:33:57.900651: W tensorflow/compiler/tf2tensorrt/utils/py_utils.cc:38] TF-TRT Warning: Could not find TensorRT\n"
     ]
    }
   ],
   "source": [
    "import tensorflow as tf\n",
    "from keras.layers import *\n",
    "\n",
    "def get_subsequent_mask(seq):\n",
    "    sz_b, len_s, n_features = seq.shape\n",
    "    subsequent_mask = 1 - tf.linalg.band_part(tf.ones((len_s, len_s)), -1, 0)\n",
    "    return subsequent_mask\n",
    "\n",
    "def length_to_mask(length, max_len=None, dtype=None):\n",
    "    assert len(length.shape) == 1, 'Length shape should be 1 dimensional.'\n",
    "    max_len = max_len or tf.reduce_max(length)\n",
    "    mask = tf.expand_dims(tf.range(max_len) >= length, 1)\n",
    "    if dtype is not None:\n",
    "        mask = tf.cast(mask, dtype)\n",
    "    return mask"
   ]
  },
  {
   "cell_type": "code",
   "execution_count": 9,
   "metadata": {},
   "outputs": [],
   "source": [
    "class TransformerBlock(Layer):\n",
    "    def __init__(self, d_model, n_heads, dim_feedforward=2048, dropout=0.1):\n",
    "        super(TransformerBlock, self).__init__()\n",
    "        self.att = MultiHeadAttention(num_heads=n_heads, key_dim=d_model)\n",
    "        self.ffn = tf.keras.Sequential(\n",
    "            [Dense(dim_feedforward, activation=\"relu\"), \n",
    "             Dense(d_model),]\n",
    "        )\n",
    "        self.layernorm1 = LayerNormalization(epsilon=1e-6)\n",
    "        self.layernorm2 = LayerNormalization(epsilon=1e-6)\n",
    "        self.dropout1 = Dropout(dropout)\n",
    "        self.dropout2 = Dropout(dropout)\n",
    "\n",
    "    def call(self, inputs, training, mask=None):\n",
    "        attn_output = self.att(inputs, inputs, attention_mask=mask)\n",
    "        out1 = self.layernorm1(inputs + self.dropout1(attn_output, training=training))\n",
    "        ffn_output = self.ffn(out1)\n",
    "        return self.layernorm2(out1 + self.dropout2(ffn_output, training=training))\n",
    "\n",
    "class AttentionModel(tf.keras.Model):\n",
    "    def __init__(self, d_model, n_layers, n_heads, dropout, **kwargs):\n",
    "        super().__init__(**kwargs)\n",
    "        self.layers_list = [Dense(d_model)]\n",
    "        self.layers_list.extend([TransformerBlock(d_model, n_heads, dropout=dropout) for _ in range(n_layers)])\n",
    "        self.layers_list.append(Dense(1, activation='sigmoid'))\n",
    "\n",
    "    def call(self, x):\n",
    "        for layer in self.layers_list:\n",
    "            x = layer(x)\n",
    "        return x"
   ]
  },
  {
   "cell_type": "code",
   "execution_count": 10,
   "metadata": {},
   "outputs": [
    {
     "name": "stdout",
     "output_type": "stream",
     "text": [
      "Model: \"attention_model_5\"\n",
      "_________________________________________________________________\n",
      " Layer (type)                Output Shape              Param #   \n",
      "=================================================================\n",
      " dense_54 (Dense)            multiple                  1024      \n",
      "                                                                 \n",
      " transformer_block_22 (Tran  multiple                  1054464   \n",
      " sformerBlock)                                                   \n",
      "                                                                 \n",
      " dense_57 (Dense)            multiple                  129       \n",
      "                                                                 \n",
      "=================================================================\n",
      "Total params: 1055617 (4.03 MB)\n",
      "Trainable params: 1055617 (4.03 MB)\n",
      "Non-trainable params: 0 (0.00 Byte)\n",
      "_________________________________________________________________\n"
     ]
    }
   ],
   "source": [
    "model = AttentionModel(d_model=128, n_layers=1, n_heads=8, dropout=0.1)\n",
    "\n",
    "model.compile(optimizer='adam', loss='binary_crossentropy', metrics=['accuracy'])\n",
    "model.build(input_shape=(None, None, 7))\n",
    "\n",
    "model.summary()"
   ]
  },
  {
   "cell_type": "code",
   "execution_count": null,
   "metadata": {},
   "outputs": [],
   "source": []
  }
 ],
 "metadata": {
  "kernelspec": {
   "display_name": "my_proj",
   "language": "python",
   "name": "python3"
  },
  "language_info": {
   "codemirror_mode": {
    "name": "ipython",
    "version": 3
   },
   "file_extension": ".py",
   "mimetype": "text/x-python",
   "name": "python",
   "nbconvert_exporter": "python",
   "pygments_lexer": "ipython3",
   "version": "3.10.12"
  }
 },
 "nbformat": 4,
 "nbformat_minor": 2
}
