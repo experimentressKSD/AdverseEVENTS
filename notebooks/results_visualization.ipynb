{
 "cells": [
  {
   "cell_type": "markdown",
   "metadata": {},
   "source": [
    "### MODEL EVALUATION - AUPRC "
   ]
  },
  {
   "cell_type": "code",
   "execution_count": 2,
   "metadata": {},
   "outputs": [],
   "source": [
    "import pandas as pd\n",
    "import numpy as np\n",
    "import matplotlib.pyplot as plt\n",
    "from sklearn.metrics import classification_report, confusion_matrix\n",
    "import os\n",
    "from tqdm import tqdm\n",
    "from joblib import Parallel, delayed\n",
    "from sklearn.metrics import auc\n",
    "import math"
   ]
  },
  {
   "cell_type": "code",
   "execution_count": 144,
   "metadata": {},
   "outputs": [],
   "source": [
    "disease = 'kidney'\n",
    "wandb_run_name = 'amber-flower-165'\n",
    "k_consecutive_ones = 6\n",
    "\n",
    "icd_only = True\n",
    "\n",
    "predictions_path = '/datasets/amelatur/data_slices/' + disease + '/' + wandb_run_name + '/' + 'raw_predictions/'\n",
    "\n",
    "onset_file_path = '/datasets/amelatur/data_slices/' + disease + '/onset_index.csv'\n",
    "onset_indices_csv = pd.read_csv(onset_file_path, header=None, index_col=False).rename({0: 'Patient_ID', 1: 'Onset_Index'}, axis=1)\n",
    "\n",
    "output_shape = (48,) # can be (8,) or (1,)\n",
    "nb_timesteps_per_window = 8\n",
    "new_nb_timesteps = 48\n",
    "stride = 1\n"
   ]
  },
  {
   "cell_type": "code",
   "execution_count": 145,
   "metadata": {},
   "outputs": [],
   "source": [
    "def mark_sequences(binary_array, k):\n",
    "    count = 0\n",
    "    start_index = None\n",
    "    for i in range(len(binary_array)):\n",
    "        if binary_array[i] == 1:\n",
    "            if count == 0:\n",
    "                start_index = i\n",
    "            count += 1\n",
    "            if count > k:\n",
    "                binary_array[start_index+1:i+1] = 0\n",
    "        else:\n",
    "            if count <= k and start_index is not None:\n",
    "                binary_array[start_index:i] = 0\n",
    "            count = 0\n",
    "            start_index = None\n",
    "    # Handle the last sequence of 1s\n",
    "    if count <= k and start_index is not None:\n",
    "        binary_array[start_index:i+1] = 0\n",
    "    return binary_array\n"
   ]
  },
  {
   "cell_type": "code",
   "execution_count": 146,
   "metadata": {},
   "outputs": [],
   "source": [
    "def parallelize_prc_calc(idx, threshold, files, icd_only):\n",
    "\n",
    "    total_events = 0\n",
    "    captured_events = 0\n",
    "    precision_total = []\n",
    "    total_pts = 0\n",
    "    ground_truths = []\n",
    "    predictions = []\n",
    "\n",
    "    # read positive ICD patients\n",
    "    pos_ICD_pts = []\n",
    "    path = '/datasets/amelatur/data_slices/ICD_pt_ids/' + disease + '/pos_pts.txt'\n",
    "    with open (path, 'r') as f:\n",
    "        for line in f:\n",
    "            pos_ICD_pts.append(line.strip())\n",
    "\n",
    "    # read negative ICD patients\n",
    "    neg_ICD_pts = []\n",
    "    path = '/datasets/amelatur/data_slices/ICD_pt_ids/' + disease + '/neg_pts.txt'\n",
    "    with open (path, 'r') as f:\n",
    "        for line in f:\n",
    "            neg_ICD_pts.append(line.strip())\n",
    "\n",
    "\n",
    "    \n",
    "    for file in (files):\n",
    "        filename_parts = file.split('_')\n",
    "        pt_id = int(filename_parts[0])\n",
    "        onset_index = onset_indices_csv[onset_indices_csv['Patient_ID'] == pt_id]['Onset_Index'].values[0]\n",
    "\n",
    "        predictions_probability = np.load(predictions_path + file)\n",
    "        original_data_size = (predictions_probability.shape[0] - 1) * stride + nb_timesteps_per_window\n",
    "\n",
    "        if output_shape[0] == 48: # one binary output per input timestep\n",
    "\n",
    "            new_stride = stride * 6\n",
    "            original_data_size = (predictions_probability.shape[0] - 1) * new_stride + new_nb_timesteps\n",
    "            final_preds = np.zeros((original_data_size,))\n",
    "            start_index = 0\n",
    "            for i, window_data in enumerate(predictions_probability):\n",
    "                window_data = window_data.reshape((window_data.shape[0],))\n",
    "                if i == 0:\n",
    "                    final_preds[start_index:new_nb_timesteps] = window_data\n",
    "                    start_index = start_index + new_nb_timesteps\n",
    "                else:\n",
    "                    end_index = start_index + new_stride\n",
    "                    final_preds[start_index:end_index] = window_data[new_nb_timesteps - new_stride :] \n",
    "                    start_index = end_index\n",
    "            final_preds = (final_preds > threshold).astype(int)\n",
    "\n",
    "        final_preds = mark_sequences(final_preds, k_consecutive_ones)\n",
    "\n",
    "        targets = (np.zeros((final_preds.shape))).astype(int)\n",
    "        if np.isnan(onset_index) == False: # if pt is labeled positive through medical criteria\n",
    "\n",
    "            if icd_only and str(pt_id) not in pos_ICD_pts: # if positive patient not in ICD list, skip them\n",
    "                continue\n",
    "\n",
    "            if int(onset_index) < 2*4:\n",
    "                continue # skip patients with onset index less than 4 hours\n",
    "            \n",
    "            onset_index = int(onset_index) * 6\n",
    "            #start_event = max(0, onset_index - 8 * 12)\n",
    "            start_event = 0\n",
    "            targets[start_event:onset_index]  = 1\n",
    "\n",
    "            targets = targets[:onset_index]\n",
    "            final_preds = final_preds[:onset_index]\n",
    "            ground_truth = 1\n",
    "        else: # if pt is labeled negative through medical criteria\n",
    "            if icd_only and str(pt_id) not in neg_ICD_pts: # if negative patient not in ICD list, skip them\n",
    "                continue\n",
    "            ground_truth = 0\n",
    "\n",
    "        if np.sum(final_preds) > 0:\n",
    "            predicted = 1\n",
    "        else:\n",
    "            predicted = 0\n",
    "        \n",
    "        ground_truths.append(ground_truth)\n",
    "        predictions.append(predicted)\n",
    "\n",
    "    tn, fp, fn, tp = confusion_matrix(ground_truths, predictions).ravel()\n",
    "    precision = tp / (tp + fp)\n",
    "    recall = tp / (tp + fn)\n",
    "    specificity = tn / (tn + fp)\n",
    "\n",
    "    \n",
    "        \n",
    "        \n",
    "        # total_alarms = np.sum(final_preds)\n",
    "        # bitwise_and = targets & final_preds\n",
    "        # true_alarms = np.sum(bitwise_and)\n",
    "            \n",
    "        # precision = true_alarms/total_alarms\n",
    "        # precision_total.append(precision)\n",
    "\n",
    "        # positive_event = np.sum(targets) > 0\n",
    "        # if positive_event:\n",
    "        #     total_events += 1\n",
    "        #     if true_alarms > 0:\n",
    "        #         captured_events += 1\n",
    "        \n",
    "    #     total_pts += 1\n",
    "\n",
    "    # final_precision = np.nanmean(precision_total)\n",
    "    # final_recall = captured_events/total_events\n",
    "\n",
    "    #return final_precision, final_recall, idx\n",
    "    return tn, fp, fn, tp, precision, recall, specificity, idx\n",
    "\n",
    "\n",
    "\n",
    "    # print(\"Precision: \"+ str(final_precision) + \" Recall: \" + str(final_recall))\n",
    "    # print(\"Total patients: \" + str(total_pts) + \", total positive patients: \" + str(total_events))"
   ]
  },
  {
   "cell_type": "code",
   "execution_count": 147,
   "metadata": {},
   "outputs": [
    {
     "name": "stderr",
     "output_type": "stream",
     "text": [
      "100it [03:08,  1.89s/it]\n"
     ]
    }
   ],
   "source": [
    "precisions = np.zeros(100)\n",
    "recalls = np.zeros(100)\n",
    "specificities = np.zeros(100)\n",
    "fpr = np.zeros(100)\n",
    "thresholds = np.arange(0, 1, 0.01).tolist()\n",
    "files = os.listdir(predictions_path)\n",
    "    \n",
    "\n",
    "\n",
    "temp = Parallel(n_jobs=-1)(delayed(parallelize_prc_calc)(idx, threshold, files, icd_only) for (idx, threshold) in tqdm(enumerate(thresholds)))\n",
    "    \n",
    "for item in temp:\n",
    "\n",
    "    tn, fp, fn, tp, precision, recall, specificity, idx = item\n",
    "\n",
    "    specificities[idx] = specificity\n",
    "    precisions[idx] = precision\n",
    "    recalls[idx] = recall\n",
    "    fpr[idx] = 1 - specificity\n"
   ]
  },
  {
   "cell_type": "code",
   "execution_count": 155,
   "metadata": {},
   "outputs": [
    {
     "name": "stdout",
     "output_type": "stream",
     "text": [
      "AUPRC: 0.30378224679868615\n"
     ]
    },
    {
     "data": {
      "image/png": "[encoded data removed]",
      "text/plain": [
       "<Figure size 640x480 with 1 Axes>"
      ]
     },
     "metadata": {},
     "output_type": "display_data"
    }
   ],
   "source": [
    "precisions_rev = precisions[::-1]\n",
    "recalls_rev = recalls[::-1]\n",
    "\n",
    "# precisions_rev = precisions_rev[1:]\n",
    "# recalls_rev = recalls_rev[1:]\n",
    "\n",
    "auprc = auc(recalls_rev, precisions_rev)\n",
    "print(\"AUPRC: \" + str(auprc))\n",
    "\n",
    "plt.plot(recalls_rev, precisions_rev, marker='.')\n",
    "plt.xlabel('Recall')\n",
    "plt.ylim([0, 1])\n",
    "plt.xlim([0, 1])\n",
    "plt.ylabel('Precision')\n",
    "plt.title('Precision-Recall Curve')\n",
    "plt.show()"
   ]
  },
  {
   "cell_type": "code",
   "execution_count": 156,
   "metadata": {},
   "outputs": [
    {
     "data": {
      "text/plain": [
       "array([0.26417124, 0.26417124, 0.26417124, 0.26412049, 0.26412049,\n",
       "       0.26418344, 0.2641611 , 0.26408185, 0.26408792, 0.26411638,\n",
       "       0.26406553, 0.2639862 , 0.26394132, 0.26384541, 0.26369234,\n",
       "       0.26383485, 0.26382426, 0.2638934 , 0.26388286, 0.26378637,\n",
       "       0.26402174, 0.26387378, 0.26351351, 0.26354895, 0.26356674,\n",
       "       0.26375192, 0.26350461, 0.26369035, 0.26383682, 0.26413428,\n",
       "       0.26439327, 0.26485286, 0.26507901, 0.26503738, 0.26518966,\n",
       "       0.26540231, 0.26536816, 0.26547673, 0.26560907, 0.26578828,\n",
       "       0.26621822, 0.2657967 , 0.26631434, 0.26630498, 0.26686761,\n",
       "       0.26679083, 0.26723633, 0.26754593, 0.26736892, 0.26792947,\n",
       "       0.26842987, 0.26920299, 0.26977196, 0.26972477, 0.27055343,\n",
       "       0.2711548 , 0.27197388, 0.27281947, 0.27351849, 0.27407023,\n",
       "       0.27517395, 0.27653631, 0.27699973, 0.2773224 , 0.27804743,\n",
       "       0.27808316, 0.27877311, 0.28012268, 0.28144607, 0.28233679,\n",
       "       0.28246652, 0.28384836, 0.28709942, 0.28762485, 0.28845483,\n",
       "       0.28950216, 0.28966548, 0.29237371, 0.29416565, 0.29512771,\n",
       "       0.29853815, 0.30009681, 0.30254281, 0.30474604, 0.3060423 ,\n",
       "       0.31216755, 0.31664212, 0.32153149, 0.32543818, 0.33041096,\n",
       "       0.33397068, 0.34300993, 0.3498062 , 0.3518285 , 0.3637931 ,\n",
       "       0.34771574, 0.3106383 , 0.2992126 , 0.25      , 0.4       ])"
      ]
     },
     "execution_count": 156,
     "metadata": {},
     "output_type": "execute_result"
    }
   ],
   "source": [
    "precisions\n"
   ]
  },
  {
   "cell_type": "code",
   "execution_count": 150,
   "metadata": {},
   "outputs": [
    {
     "name": "stdout",
     "output_type": "stream",
     "text": [
      "AUROC: 0.5569127594352313\n"
     ]
    },
    {
     "data": {
      "image/png": "[encoded data removed]",
      "text/plain": [
       "<Figure size 640x480 with 1 Axes>"
      ]
     },
     "metadata": {},
     "output_type": "display_data"
    }
   ],
   "source": [
    "fpr_rev = fpr[::-1]\n",
    "recalls_rev = recalls[::-1]\n",
    "# fpr_rev = fpr_rev[4:]\n",
    "# recalls_rev = recalls_rev[4:]\n",
    "\n",
    "auroc = auc(fpr_rev, recalls_rev)\n",
    "print(\"AUROC: \" + str(auroc))\n",
    "\n",
    "plt.plot(fpr_rev, recalls_rev, marker='.')\n",
    "plt.ylabel('Sensitivity (Recall / TPR)')\n",
    "plt.ylim([0, 1])\n",
    "plt.xlim([0, 1])\n",
    "plt.xlabel('1 - Specificity (FPR)')\n",
    "plt.title('Receiver Operating Curve')\n",
    "plt.show()"
   ]
  },
  {
   "cell_type": "markdown",
   "metadata": {},
   "source": [
    "### FIXED THRESHOLD - Confusion Matrices"
   ]
  },
  {
   "cell_type": "code",
   "execution_count": 151,
   "metadata": {},
   "outputs": [],
   "source": [
    "threshold = 0.5\n",
    "\n",
    "disease = 'kidney'\n",
    "wandb_run_name = 'amber-flower-165'\n",
    "k_consecutive_ones = 6\n",
    "\n",
    "icd_only = True\n",
    "\n",
    "predictions_path = '/datasets/amelatur/data_slices/' + disease + '/' + wandb_run_name + '/' + 'raw_predictions/'\n",
    "\n",
    "onset_file_path = '/datasets/amelatur/data_slices/' + disease + '/onset_index.csv'\n",
    "onset_indices_csv = pd.read_csv(onset_file_path, header=None, index_col=False).rename({0: 'Patient_ID', 1: 'Onset_Index'}, axis=1)\n",
    "\n",
    "output_shape = (48,) # can be (8,) or (1,)\n",
    "nb_timesteps_per_window = 8\n",
    "new_nb_timesteps = 48\n",
    "stride = 1\n"
   ]
  },
  {
   "cell_type": "code",
   "execution_count": 152,
   "metadata": {},
   "outputs": [],
   "source": [
    "files = os.listdir(predictions_path)\n",
    "\n",
    "idx = 0 # dummy value just to make the function work\n",
    "\n",
    "tn, fp, fn, tp, precision, recall, specificity, idx = parallelize_prc_calc(idx, threshold, files, icd_only)"
   ]
  },
  {
   "cell_type": "code",
   "execution_count": 153,
   "metadata": {},
   "outputs": [
    {
     "data": {
      "text/plain": [
       "(728, 6113, 213, 2243)"
      ]
     },
     "execution_count": 153,
     "metadata": {},
     "output_type": "execute_result"
    }
   ],
   "source": [
    "tn, fp, fn, tp"
   ]
  },
  {
   "cell_type": "code",
   "execution_count": 154,
   "metadata": {},
   "outputs": [
    {
     "data": {
      "text/plain": [
       "(0.2684298707515558, 0.9132736156351792, 0.10641719046922965)"
      ]
     },
     "execution_count": 154,
     "metadata": {},
     "output_type": "execute_result"
    }
   ],
   "source": [
    "precision, recall, specificity"
   ]
  },
  {
   "cell_type": "markdown",
   "metadata": {},
   "source": []
  },
  {
   "cell_type": "code",
   "execution_count": null,
   "metadata": {},
   "outputs": [],
   "source": []
  }
 ],
 "metadata": {
  "kernelspec": {
   "display_name": "my_proj",
   "language": "python",
   "name": "python3"
  },
  "language_info": {
   "codemirror_mode": {
    "name": "ipython",
    "version": 3
   },
   "file_extension": ".py",
   "mimetype": "text/x-python",
   "name": "python",
   "nbconvert_exporter": "python",
   "pygments_lexer": "ipython3",
   "version": "3.10.12"
  },
  "orig_nbformat": 4,
  "vscode": {
   "interpreter": {
    "hash": "cf7649ba422fb855e8326f0b9af10e406050e974c9bb93677086f2c0ae9379c9"
   }
  }
 },
 "nbformat": 4,
 "nbformat_minor": 2
}
